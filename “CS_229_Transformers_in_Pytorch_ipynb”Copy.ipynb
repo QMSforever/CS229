{
  "nbformat": 4,
  "nbformat_minor": 0,
  "metadata": {
    "colab": {
      "provenance": [],
      "gpuType": "T4",
      "include_colab_link": true
    },
    "kernelspec": {
      "name": "python3",
      "display_name": "Python 3"
    },
    "language_info": {
      "name": "python"
    },
    "accelerator": "GPU"
  },
  "cells": [
    {
      "cell_type": "markdown",
      "metadata": {
        "id": "view-in-github",
        "colab_type": "text"
      },
      "source": [
        "<a href=\"https://colab.research.google.com/github/QMSforever/CS229/blob/main/%E2%80%9CCS_229_Transformers_in_Pytorch_ipynb%E2%80%9DCopy.ipynb\" target=\"_parent\"><img src=\"https://colab.research.google.com/assets/colab-badge.svg\" alt=\"Open In Colab\"/></a>"
      ]
    },
    {
      "cell_type": "markdown",
      "source": [
        "Remember to make a copy of this colab notebook before you start editing cells!"
      ],
      "metadata": {
        "id": "awMdRX9tqbfV"
      }
    },
    {
      "cell_type": "code",
      "source": [
        "!pip install datasets"
      ],
      "metadata": {
        "id": "HVsmPq4IduLD",
        "colab": {
          "base_uri": "https://localhost:8080/"
        },
        "outputId": "614e6e2d-58d5-4488-997e-cc13b41c427c"
      },
      "execution_count": null,
      "outputs": [
        {
          "output_type": "stream",
          "name": "stdout",
          "text": [
            "Collecting datasets\n",
            "  Downloading datasets-3.3.1-py3-none-any.whl.metadata (19 kB)\n",
            "Requirement already satisfied: filelock in /usr/local/lib/python3.11/dist-packages (from datasets) (3.17.0)\n",
            "Requirement already satisfied: numpy>=1.17 in /usr/local/lib/python3.11/dist-packages (from datasets) (1.26.4)\n",
            "Requirement already satisfied: pyarrow>=15.0.0 in /usr/local/lib/python3.11/dist-packages (from datasets) (17.0.0)\n",
            "Collecting dill<0.3.9,>=0.3.0 (from datasets)\n",
            "  Downloading dill-0.3.8-py3-none-any.whl.metadata (10 kB)\n",
            "Requirement already satisfied: pandas in /usr/local/lib/python3.11/dist-packages (from datasets) (2.2.2)\n",
            "Requirement already satisfied: requests>=2.32.2 in /usr/local/lib/python3.11/dist-packages (from datasets) (2.32.3)\n",
            "Requirement already satisfied: tqdm>=4.66.3 in /usr/local/lib/python3.11/dist-packages (from datasets) (4.67.1)\n",
            "Collecting xxhash (from datasets)\n",
            "  Downloading xxhash-3.5.0-cp311-cp311-manylinux_2_17_x86_64.manylinux2014_x86_64.whl.metadata (12 kB)\n",
            "Collecting multiprocess<0.70.17 (from datasets)\n",
            "  Downloading multiprocess-0.70.16-py311-none-any.whl.metadata (7.2 kB)\n",
            "Requirement already satisfied: fsspec<=2024.12.0,>=2023.1.0 in /usr/local/lib/python3.11/dist-packages (from fsspec[http]<=2024.12.0,>=2023.1.0->datasets) (2024.10.0)\n",
            "Requirement already satisfied: aiohttp in /usr/local/lib/python3.11/dist-packages (from datasets) (3.11.12)\n",
            "Requirement already satisfied: huggingface-hub>=0.24.0 in /usr/local/lib/python3.11/dist-packages (from datasets) (0.28.1)\n",
            "Requirement already satisfied: packaging in /usr/local/lib/python3.11/dist-packages (from datasets) (24.2)\n",
            "Requirement already satisfied: pyyaml>=5.1 in /usr/local/lib/python3.11/dist-packages (from datasets) (6.0.2)\n",
            "Requirement already satisfied: aiohappyeyeballs>=2.3.0 in /usr/local/lib/python3.11/dist-packages (from aiohttp->datasets) (2.4.6)\n",
            "Requirement already satisfied: aiosignal>=1.1.2 in /usr/local/lib/python3.11/dist-packages (from aiohttp->datasets) (1.3.2)\n",
            "Requirement already satisfied: attrs>=17.3.0 in /usr/local/lib/python3.11/dist-packages (from aiohttp->datasets) (25.1.0)\n",
            "Requirement already satisfied: frozenlist>=1.1.1 in /usr/local/lib/python3.11/dist-packages (from aiohttp->datasets) (1.5.0)\n",
            "Requirement already satisfied: multidict<7.0,>=4.5 in /usr/local/lib/python3.11/dist-packages (from aiohttp->datasets) (6.1.0)\n",
            "Requirement already satisfied: propcache>=0.2.0 in /usr/local/lib/python3.11/dist-packages (from aiohttp->datasets) (0.2.1)\n",
            "Requirement already satisfied: yarl<2.0,>=1.17.0 in /usr/local/lib/python3.11/dist-packages (from aiohttp->datasets) (1.18.3)\n",
            "Requirement already satisfied: typing-extensions>=3.7.4.3 in /usr/local/lib/python3.11/dist-packages (from huggingface-hub>=0.24.0->datasets) (4.12.2)\n",
            "Requirement already satisfied: charset-normalizer<4,>=2 in /usr/local/lib/python3.11/dist-packages (from requests>=2.32.2->datasets) (3.4.1)\n",
            "Requirement already satisfied: idna<4,>=2.5 in /usr/local/lib/python3.11/dist-packages (from requests>=2.32.2->datasets) (3.10)\n",
            "Requirement already satisfied: urllib3<3,>=1.21.1 in /usr/local/lib/python3.11/dist-packages (from requests>=2.32.2->datasets) (2.3.0)\n",
            "Requirement already satisfied: certifi>=2017.4.17 in /usr/local/lib/python3.11/dist-packages (from requests>=2.32.2->datasets) (2025.1.31)\n",
            "Requirement already satisfied: python-dateutil>=2.8.2 in /usr/local/lib/python3.11/dist-packages (from pandas->datasets) (2.8.2)\n",
            "Requirement already satisfied: pytz>=2020.1 in /usr/local/lib/python3.11/dist-packages (from pandas->datasets) (2025.1)\n",
            "Requirement already satisfied: tzdata>=2022.7 in /usr/local/lib/python3.11/dist-packages (from pandas->datasets) (2025.1)\n",
            "Requirement already satisfied: six>=1.5 in /usr/local/lib/python3.11/dist-packages (from python-dateutil>=2.8.2->pandas->datasets) (1.17.0)\n",
            "Downloading datasets-3.3.1-py3-none-any.whl (484 kB)\n",
            "\u001b[2K   \u001b[90m━━━━━━━━━━━━━━━━━━━━━━━━━━━━━━━━━━━━━━━━\u001b[0m \u001b[32m484.9/484.9 kB\u001b[0m \u001b[31m9.7 MB/s\u001b[0m eta \u001b[36m0:00:00\u001b[0m\n",
            "\u001b[?25hDownloading dill-0.3.8-py3-none-any.whl (116 kB)\n",
            "\u001b[2K   \u001b[90m━━━━━━━━━━━━━━━━━━━━━━━━━━━━━━━━━━━━━━━━\u001b[0m \u001b[32m116.3/116.3 kB\u001b[0m \u001b[31m9.1 MB/s\u001b[0m eta \u001b[36m0:00:00\u001b[0m\n",
            "\u001b[?25hDownloading multiprocess-0.70.16-py311-none-any.whl (143 kB)\n",
            "\u001b[2K   \u001b[90m━━━━━━━━━━━━━━━━━━━━━━━━━━━━━━━━━━━━━━━━\u001b[0m \u001b[32m143.5/143.5 kB\u001b[0m \u001b[31m13.0 MB/s\u001b[0m eta \u001b[36m0:00:00\u001b[0m\n",
            "\u001b[?25hDownloading xxhash-3.5.0-cp311-cp311-manylinux_2_17_x86_64.manylinux2014_x86_64.whl (194 kB)\n",
            "\u001b[2K   \u001b[90m━━━━━━━━━━━━━━━━━━━━━━━━━━━━━━━━━━━━━━━━\u001b[0m \u001b[32m194.8/194.8 kB\u001b[0m \u001b[31m7.1 MB/s\u001b[0m eta \u001b[36m0:00:00\u001b[0m\n",
            "\u001b[?25hInstalling collected packages: xxhash, dill, multiprocess, datasets\n",
            "Successfully installed datasets-3.3.1 dill-0.3.8 multiprocess-0.70.16 xxhash-3.5.0\n"
          ]
        }
      ]
    },
    {
      "cell_type": "code",
      "source": [
        "!pip install tqdm"
      ],
      "metadata": {
        "id": "kZVu4xi1dxiY",
        "colab": {
          "base_uri": "https://localhost:8080/"
        },
        "outputId": "429b44da-5c71-4523-c0ba-6e39a25355c4"
      },
      "execution_count": null,
      "outputs": [
        {
          "output_type": "stream",
          "name": "stdout",
          "text": [
            "Requirement already satisfied: tqdm in /usr/local/lib/python3.11/dist-packages (4.67.1)\n"
          ]
        }
      ]
    },
    {
      "cell_type": "code",
      "source": [
        "!wget https://raw.githubusercontent.com/karpathy/char-rnn/master/data/tinyshakespeare/input.txt"
      ],
      "metadata": {
        "id": "i8KwXCr8ov6m",
        "colab": {
          "base_uri": "https://localhost:8080/"
        },
        "outputId": "d8e4faf0-9a06-44c6-b377-9556caa35840"
      },
      "execution_count": null,
      "outputs": [
        {
          "output_type": "stream",
          "name": "stdout",
          "text": [
            "--2025-02-20 02:30:36--  https://raw.githubusercontent.com/karpathy/char-rnn/master/data/tinyshakespeare/input.txt\n",
            "Resolving raw.githubusercontent.com (raw.githubusercontent.com)... 185.199.108.133, 185.199.109.133, 185.199.110.133, ...\n",
            "Connecting to raw.githubusercontent.com (raw.githubusercontent.com)|185.199.108.133|:443... connected.\n",
            "HTTP request sent, awaiting response... 200 OK\n",
            "Length: 1115394 (1.1M) [text/plain]\n",
            "Saving to: ‘input.txt’\n",
            "\n",
            "input.txt           100%[===================>]   1.06M  --.-KB/s    in 0.04s   \n",
            "\n",
            "2025-02-20 02:30:36 (29.7 MB/s) - ‘input.txt’ saved [1115394/1115394]\n",
            "\n"
          ]
        }
      ]
    },
    {
      "cell_type": "code",
      "source": [
        "# DO NOT MODIFY ANY OF THIS CODE\n",
        "\n",
        "import torch\n",
        "import torch.nn as nn\n",
        "import torch.nn.functional as F\n",
        "from torch.optim.lr_scheduler import ReduceLROnPlateau\n",
        "from tqdm import tqdm"
      ],
      "metadata": {
        "id": "a_p9YjxYpkPN"
      },
      "execution_count": null,
      "outputs": []
    },
    {
      "cell_type": "code",
      "source": [
        "# DO NOT MODIFY ANY OF THIS CODE\n",
        "\n",
        "# Hyperparameters\n",
        "batch_sz = 16\n",
        "context_length = 32\n",
        "max_iterations = 30000\n",
        "log_interval = 200\n",
        "init_lr = 1e-3\n",
        "device = 'cuda' if torch.cuda.is_available() else 'cpu'\n",
        "eval_steps = 200\n",
        "embedding_dim = 64\n",
        "num_heads = 4\n",
        "num_blocks = 4\n",
        "drop_prob = 0.0\n",
        "\n",
        "# Load and prepare the data\n",
        "torch.manual_seed(1337)\n",
        "with open('input.txt', 'r', encoding='utf-8') as file:\n",
        "    text_data = file.read()\n",
        "\n",
        "unique_chars = sorted(set(text_data))\n",
        "vocab_size = len(unique_chars)\n",
        "char_to_index = {ch: i for i, ch in enumerate(unique_chars)}\n",
        "index_to_char = {i: ch for i, ch in enumerate(unique_chars)}\n",
        "\n",
        "def encode_text(s): return [char_to_index[c] for c in s]\n",
        "def decode_text(l): return ''.join([index_to_char[i] for i in l])\n",
        "\n",
        "# Split data for training and validation\n",
        "data_tensor = torch.tensor(encode_text(text_data), dtype=torch.long)\n",
        "train_size = int(0.9 * len(data_tensor))\n",
        "train_data, val_data = data_tensor[:train_size], data_tensor[train_size:]\n",
        "\n",
        "def generate_batch(split):\n",
        "    data_src = train_data if split == 'train' else val_data\n",
        "    indices = torch.randint(0, len(data_src) - context_length, (batch_sz,))\n",
        "    inputs = torch.stack([data_src[i:i + context_length] for i in indices])\n",
        "    targets = torch.stack([data_src[i + 1:i + context_length + 1] for i in indices])\n",
        "    return inputs.to(device), targets.to(device)\n",
        "\n",
        "@torch.no_grad()\n",
        "def evaluate_loss():\n",
        "    model.eval()\n",
        "    losses = {'train': [], 'val': []}\n",
        "    for split in ['train', 'val']:\n",
        "        for _ in range(eval_steps):\n",
        "            batch_x, batch_y = generate_batch(split)\n",
        "            _, batch_loss = model(batch_x, batch_y)\n",
        "            losses[split].append(batch_loss.item())\n",
        "    model.train()\n",
        "    return {split: torch.tensor(losses[split]).mean().item() for split in losses}"
      ],
      "metadata": {
        "id": "AufUQaqoeJF2"
      },
      "execution_count": null,
      "outputs": []
    },
    {
      "cell_type": "code",
      "source": [
        "# YOU WILL CHANGE CODE IN THIS CELL\n",
        "# Implement a Transformer model with PyTorch. Fill out the provided skeleton.\n",
        "\n",
        "class SelfAttention(nn.Module):\n",
        "    def __init__(self, head_dim):\n",
        "        super().__init__()\n",
        "        # Initialize key, query, and value linear layers without bias.\n",
        "        self.key_proj = nn.Linear(embedding_dim, head_dim, bias=False)\n",
        "        self.query_proj = nn.Linear(embedding_dim, head_dim, bias=False)\n",
        "        self.value_proj = nn.Linear(embedding_dim, head_dim, bias=False)\n",
        "        # Lower triangular mask to ensure causal attention.\n",
        "        self.register_buffer('mask', torch.tril(torch.ones(context_length, context_length)))\n",
        "        self.dropout = nn.Dropout(drop_prob)\n",
        "\n",
        "    def forward(self, x):\n",
        "        # x: (B, T, C)\n",
        "        B, T, C = x.shape\n",
        "        # Project input x to keys, queries, and values.\n",
        "        keys = self.key_proj(x)      # (B, T, head_dim)\n",
        "        queries = self.query_proj(x) # (B, T, head_dim)\n",
        "        values = self.value_proj(x)  # (B, T, head_dim)\n",
        "        # Scale dot-product attention.\n",
        "        scale = queries.size(-1) ** -0.5  # using head_dim for scaling\n",
        "        scores = (queries @ keys.transpose(-2, -1)) * scale  # (B, T, T)\n",
        "        # Apply causal mask.\n",
        "        scores = scores.masked_fill(self.mask[:T, :T] == 0, float('-inf'))\n",
        "        # Apply softmax to get attention weights and then dropout.\n",
        "        attention_weights = F.softmax(scores, dim=-1)\n",
        "        attention_weights = self.dropout(attention_weights)\n",
        "        # Compute weighted sum of values.\n",
        "        return attention_weights @ values  # (B, T, head_dim)\n",
        "\n",
        "\n",
        "class MultiHeadSelfAttention(nn.Module):\n",
        "    def __init__(self, num_heads, head_dim):\n",
        "        super().__init__()\n",
        "        # Create a list of self attention heads.\n",
        "        self.heads = nn.ModuleList([SelfAttention(head_dim) for _ in range(num_heads)])\n",
        "        # Output projection to combine heads.\n",
        "        self.output_proj = nn.Linear(num_heads * head_dim, embedding_dim)\n",
        "        self.dropout = nn.Dropout(drop_prob)\n",
        "\n",
        "    def forward(self, x):\n",
        "        # Apply each attention head.\n",
        "        head_outputs = [head(x) for head in self.heads]  # Each: (B, T, head_dim)\n",
        "        # Concatenate outputs along the last dimension.\n",
        "        x = torch.cat(head_outputs, dim=-1)  # (B, T, num_heads * head_dim)\n",
        "        # Apply final projection and dropout.\n",
        "        return self.dropout(self.output_proj(x))\n",
        "\n",
        "\n",
        "class FeedForwardLayer(nn.Module):\n",
        "    def __init__(self, emb_dim):\n",
        "        super().__init__()\n",
        "        self.layers = nn.Sequential(\n",
        "            nn.Linear(emb_dim, 4 * emb_dim),\n",
        "            nn.ReLU(),\n",
        "            nn.Linear(4 * emb_dim, emb_dim),\n",
        "            nn.Dropout(drop_prob)\n",
        "        )\n",
        "\n",
        "    def forward(self, x):\n",
        "        return self.layers(x)\n",
        "\n",
        "\n",
        "class TransformerBlock(nn.Module):\n",
        "    def __init__(self, emb_dim, num_heads):\n",
        "        super().__init__()\n",
        "        head_dim = emb_dim // num_heads  # derive head dimension from embedding dimension and number of heads\n",
        "        # Initialize multi-head self attention, feed-forward layer, and layer norms.\n",
        "        self.attention = MultiHeadSelfAttention(num_heads, head_dim)\n",
        "        self.feed_forward = FeedForwardLayer(emb_dim)\n",
        "        self.norm1 = nn.LayerNorm(emb_dim)\n",
        "        self.norm2 = nn.LayerNorm(emb_dim)\n",
        "\n",
        "    def forward(self, x):\n",
        "        # Apply layer norm followed by self attention with a residual connection.\n",
        "        x = x + self.attention(self.norm1(x))\n",
        "        # Apply second layer norm followed by feed forward layer with residual connection.\n",
        "        x = x + self.feed_forward(self.norm2(x))\n",
        "        return x\n",
        "\n",
        "\n",
        "class TransformerLanguageModel(nn.Module):\n",
        "    def __init__(self):\n",
        "        super().__init__()\n",
        "        # Token and positional embeddings.\n",
        "        self.token_embeddings = nn.Embedding(vocab_size, embedding_dim)\n",
        "        self.position_embeddings = nn.Embedding(context_length, embedding_dim)\n",
        "        # Stack of transformer blocks.\n",
        "        self.transformer_blocks = nn.Sequential(*[TransformerBlock(embedding_dim, num_heads) for _ in range(num_blocks)])\n",
        "        self.final_norm = nn.LayerNorm(embedding_dim)\n",
        "        self.head = nn.Linear(embedding_dim, vocab_size)\n",
        "\n",
        "    def forward(self, idx, targets=None):\n",
        "        # idx: (B, T)\n",
        "        B, T = idx.shape\n",
        "        # Get token embeddings.\n",
        "        tok_emb = self.token_embeddings(idx)  # (B, T, embedding_dim)\n",
        "        # Create positional embeddings for each token position.\n",
        "        pos_emb = self.position_embeddings(torch.arange(T, device=device))  # (T, embedding_dim)\n",
        "        # Combine token and positional embeddings.\n",
        "        x = tok_emb + pos_emb  # (B, T, embedding_dim)\n",
        "        # Pass through transformer blocks and final layer norm.\n",
        "        x = self.transformer_blocks(x)\n",
        "        x = self.final_norm(x)\n",
        "        # Compute logits over vocabulary.\n",
        "        logits = self.head(x)  # (B, T, vocab_size)\n",
        "\n",
        "        if targets is None:\n",
        "            return logits, None\n",
        "\n",
        "        # Reshape logits and targets for loss computation.\n",
        "        logits = logits.view(B * T, vocab_size)\n",
        "        targets = targets.view(B * T)\n",
        "        loss = F.cross_entropy(logits, targets)\n",
        "        return logits, loss\n",
        "\n",
        "    def generate_text(self, idx, max_tokens):\n",
        "        # Generate text autoregressively.\n",
        "        for _ in range(max_tokens):\n",
        "            idx_cond = idx[:, -context_length:]\n",
        "            logits, _ = self(idx_cond)\n",
        "            probs = F.softmax(logits[:, -1, :], dim=-1)\n",
        "            next_token = torch.multinomial(probs, num_samples=1)\n",
        "            idx = torch.cat((idx, next_token), dim=1)\n",
        "        return idx"
      ],
      "metadata": {
        "id": "3QG0iPsMo_Gg"
      },
      "execution_count": null,
      "outputs": []
    },
    {
      "cell_type": "code",
      "source": [
        "# DO NOT MODIFY ANY OF THIS CODE\n",
        "\n",
        "# Initialize and train the model\n",
        "model = TransformerLanguageModel().to(device)\n",
        "optimizer = torch.optim.AdamW(model.parameters(), lr=init_lr)\n",
        "scheduler = ReduceLROnPlateau(optimizer, mode='min', factor=0.5, patience=5, verbose=True)\n",
        "best_val_loss = float('inf')\n",
        "no_progress = 0\n",
        "max_patience = 10\n",
        "\n",
        "for step in tqdm(range(max_iterations)):\n",
        "    if step % log_interval == 0 or step == max_iterations - 1:\n",
        "        current_losses = evaluate_loss()\n",
        "        print(f\"Step {step}: train loss {current_losses['train']:.4f}, val loss {current_losses['val']:.4f}\")\n",
        "        scheduler.step(current_losses['val'])\n",
        "\n",
        "        if current_losses['val'] < best_val_loss:\n",
        "            best_val_loss = current_losses['val']\n",
        "            no_progress = 0\n",
        "        else:\n",
        "            no_progress += 1\n",
        "\n",
        "    batch_x, batch_y = generate_batch('train')\n",
        "    _, batch_loss = model(batch_x, batch_y)\n",
        "    optimizer.zero_grad()\n",
        "    batch_loss.backward()\n",
        "    optimizer.step()\n",
        "\n",
        "start_context = torch.zeros((1, 1), dtype=torch.long, device=device)\n",
        "generated_output = decode_text(model.generate_text(start_context, max_tokens=1000)[0].tolist())\n",
        "\n",
        "with open(\"output.txt\", \"w\", encoding=\"utf-8\") as out_file:\n",
        "    out_file.write(generated_output)"
      ],
      "metadata": {
        "id": "OKXSCJBNpGKT",
        "colab": {
          "base_uri": "https://localhost:8080/"
        },
        "outputId": "f7c4649b-2b5d-45f9-8d27-780a9a829d3f"
      },
      "execution_count": null,
      "outputs": [
        {
          "output_type": "stream",
          "name": "stderr",
          "text": [
            "/usr/local/lib/python3.11/dist-packages/torch/optim/lr_scheduler.py:62: UserWarning: The verbose parameter is deprecated. Please use get_last_lr() to access the learning rate.\n",
            "  warnings.warn(\n",
            "  0%|          | 0/30000 [00:00<?, ?it/s]"
          ]
        },
        {
          "output_type": "stream",
          "name": "stdout",
          "text": [
            "Step 0: train loss 4.4109, val loss 4.4016\n"
          ]
        },
        {
          "output_type": "stream",
          "name": "stderr",
          "text": [
            "  1%|          | 204/30000 [00:15<2:39:27,  3.11it/s]"
          ]
        },
        {
          "output_type": "stream",
          "name": "stdout",
          "text": [
            "Step 200: train loss 2.4885, val loss 2.4840\n"
          ]
        },
        {
          "output_type": "stream",
          "name": "stderr",
          "text": [
            "  1%|▏         | 408/30000 [00:26<2:07:58,  3.85it/s]"
          ]
        },
        {
          "output_type": "stream",
          "name": "stdout",
          "text": [
            "Step 400: train loss 2.3174, val loss 2.3265\n"
          ]
        },
        {
          "output_type": "stream",
          "name": "stderr",
          "text": [
            "  2%|▏         | 606/30000 [00:32<1:00:28,  8.10it/s]"
          ]
        },
        {
          "output_type": "stream",
          "name": "stdout",
          "text": [
            "Step 600: train loss 2.2139, val loss 2.2263\n"
          ]
        },
        {
          "output_type": "stream",
          "name": "stderr",
          "text": [
            "  3%|▎         | 808/30000 [00:40<1:00:06,  8.10it/s]"
          ]
        },
        {
          "output_type": "stream",
          "name": "stdout",
          "text": [
            "Step 800: train loss 2.1124, val loss 2.1275\n"
          ]
        },
        {
          "output_type": "stream",
          "name": "stderr",
          "text": [
            "  3%|▎         | 1009/30000 [00:48<1:23:05,  5.81it/s]"
          ]
        },
        {
          "output_type": "stream",
          "name": "stdout",
          "text": [
            "Step 1000: train loss 2.0512, val loss 2.0930\n"
          ]
        },
        {
          "output_type": "stream",
          "name": "stderr",
          "text": [
            "  4%|▍         | 1208/30000 [00:55<58:43,  8.17it/s]  "
          ]
        },
        {
          "output_type": "stream",
          "name": "stdout",
          "text": [
            "Step 1200: train loss 1.9974, val loss 2.0474\n"
          ]
        },
        {
          "output_type": "stream",
          "name": "stderr",
          "text": [
            "  5%|▍         | 1406/30000 [01:02<1:05:30,  7.28it/s]"
          ]
        },
        {
          "output_type": "stream",
          "name": "stdout",
          "text": [
            "Step 1400: train loss 1.9561, val loss 2.0265\n"
          ]
        },
        {
          "output_type": "stream",
          "name": "stderr",
          "text": [
            "  5%|▌         | 1609/30000 [01:09<59:50,  7.91it/s]  "
          ]
        },
        {
          "output_type": "stream",
          "name": "stdout",
          "text": [
            "Step 1600: train loss 1.9160, val loss 1.9979\n"
          ]
        },
        {
          "output_type": "stream",
          "name": "stderr",
          "text": [
            "  6%|▌         | 1808/30000 [01:16<1:00:04,  7.82it/s]"
          ]
        },
        {
          "output_type": "stream",
          "name": "stdout",
          "text": [
            "Step 1800: train loss 1.8844, val loss 1.9762\n"
          ]
        },
        {
          "output_type": "stream",
          "name": "stderr",
          "text": [
            "  7%|▋         | 2010/30000 [01:23<1:07:54,  6.87it/s]"
          ]
        },
        {
          "output_type": "stream",
          "name": "stdout",
          "text": [
            "Step 2000: train loss 1.8550, val loss 1.9510\n"
          ]
        },
        {
          "output_type": "stream",
          "name": "stderr",
          "text": [
            "  7%|▋         | 2206/30000 [01:30<57:51,  8.01it/s]  "
          ]
        },
        {
          "output_type": "stream",
          "name": "stdout",
          "text": [
            "Step 2200: train loss 1.8407, val loss 1.9394\n"
          ]
        },
        {
          "output_type": "stream",
          "name": "stderr",
          "text": [
            "  8%|▊         | 2408/30000 [01:37<1:12:22,  6.35it/s]"
          ]
        },
        {
          "output_type": "stream",
          "name": "stdout",
          "text": [
            "Step 2400: train loss 1.8169, val loss 1.9236\n"
          ]
        },
        {
          "output_type": "stream",
          "name": "stderr",
          "text": [
            "  9%|▊         | 2608/30000 [01:44<57:50,  7.89it/s]  "
          ]
        },
        {
          "output_type": "stream",
          "name": "stdout",
          "text": [
            "Step 2600: train loss 1.7930, val loss 1.9189\n"
          ]
        },
        {
          "output_type": "stream",
          "name": "stderr",
          "text": [
            "  9%|▉         | 2809/30000 [01:51<56:30,  8.02it/s]  "
          ]
        },
        {
          "output_type": "stream",
          "name": "stdout",
          "text": [
            "Step 2800: train loss 1.7788, val loss 1.9126\n"
          ]
        },
        {
          "output_type": "stream",
          "name": "stderr",
          "text": [
            " 10%|█         | 3003/30000 [01:58<1:30:20,  4.98it/s]"
          ]
        },
        {
          "output_type": "stream",
          "name": "stdout",
          "text": [
            "Step 3000: train loss 1.7518, val loss 1.8939\n"
          ]
        },
        {
          "output_type": "stream",
          "name": "stderr",
          "text": [
            " 11%|█         | 3209/30000 [02:05<56:32,  7.90it/s]  "
          ]
        },
        {
          "output_type": "stream",
          "name": "stdout",
          "text": [
            "Step 3200: train loss 1.7411, val loss 1.8776\n"
          ]
        },
        {
          "output_type": "stream",
          "name": "stderr",
          "text": [
            " 11%|█▏        | 3408/30000 [02:13<1:14:06,  5.98it/s]"
          ]
        },
        {
          "output_type": "stream",
          "name": "stdout",
          "text": [
            "Step 3400: train loss 1.7341, val loss 1.8880\n"
          ]
        },
        {
          "output_type": "stream",
          "name": "stderr",
          "text": [
            " 12%|█▏        | 3608/30000 [02:19<57:21,  7.67it/s]  "
          ]
        },
        {
          "output_type": "stream",
          "name": "stdout",
          "text": [
            "Step 3600: train loss 1.7220, val loss 1.8744\n"
          ]
        },
        {
          "output_type": "stream",
          "name": "stderr",
          "text": [
            " 13%|█▎        | 3804/30000 [02:27<1:14:38,  5.85it/s]"
          ]
        },
        {
          "output_type": "stream",
          "name": "stdout",
          "text": [
            "Step 3800: train loss 1.7154, val loss 1.8435\n"
          ]
        },
        {
          "output_type": "stream",
          "name": "stderr",
          "text": [
            " 13%|█▎        | 4004/30000 [02:34<1:25:03,  5.09it/s]"
          ]
        },
        {
          "output_type": "stream",
          "name": "stdout",
          "text": [
            "Step 4000: train loss 1.7117, val loss 1.8418\n"
          ]
        },
        {
          "output_type": "stream",
          "name": "stderr",
          "text": [
            " 14%|█▍        | 4207/30000 [02:41<56:10,  7.65it/s]  "
          ]
        },
        {
          "output_type": "stream",
          "name": "stdout",
          "text": [
            "Step 4200: train loss 1.6856, val loss 1.8424\n"
          ]
        },
        {
          "output_type": "stream",
          "name": "stderr",
          "text": [
            " 15%|█▍        | 4408/30000 [02:48<1:08:00,  6.27it/s]"
          ]
        },
        {
          "output_type": "stream",
          "name": "stdout",
          "text": [
            "Step 4400: train loss 1.6894, val loss 1.8383\n"
          ]
        },
        {
          "output_type": "stream",
          "name": "stderr",
          "text": [
            " 15%|█▌        | 4606/30000 [02:55<54:30,  7.77it/s]  "
          ]
        },
        {
          "output_type": "stream",
          "name": "stdout",
          "text": [
            "Step 4600: train loss 1.6725, val loss 1.8259\n"
          ]
        },
        {
          "output_type": "stream",
          "name": "stderr",
          "text": [
            " 16%|█▌        | 4807/30000 [03:02<53:17,  7.88it/s]  "
          ]
        },
        {
          "output_type": "stream",
          "name": "stdout",
          "text": [
            "Step 4800: train loss 1.6771, val loss 1.8503\n"
          ]
        },
        {
          "output_type": "stream",
          "name": "stderr",
          "text": [
            " 17%|█▋        | 5007/30000 [03:09<58:54,  7.07it/s]  "
          ]
        },
        {
          "output_type": "stream",
          "name": "stdout",
          "text": [
            "Step 5000: train loss 1.6685, val loss 1.8198\n"
          ]
        },
        {
          "output_type": "stream",
          "name": "stderr",
          "text": [
            " 17%|█▋        | 5209/30000 [03:16<53:52,  7.67it/s]  "
          ]
        },
        {
          "output_type": "stream",
          "name": "stdout",
          "text": [
            "Step 5200: train loss 1.6579, val loss 1.8187\n"
          ]
        },
        {
          "output_type": "stream",
          "name": "stderr",
          "text": [
            " 18%|█▊        | 5408/30000 [03:24<1:02:35,  6.55it/s]"
          ]
        },
        {
          "output_type": "stream",
          "name": "stdout",
          "text": [
            "Step 5400: train loss 1.6538, val loss 1.8120\n"
          ]
        },
        {
          "output_type": "stream",
          "name": "stderr",
          "text": [
            " 19%|█▊        | 5605/30000 [03:31<1:11:57,  5.65it/s]"
          ]
        },
        {
          "output_type": "stream",
          "name": "stdout",
          "text": [
            "Step 5600: train loss 1.6541, val loss 1.7889\n"
          ]
        },
        {
          "output_type": "stream",
          "name": "stderr",
          "text": [
            " 19%|█▉        | 5807/30000 [03:38<52:08,  7.73it/s]  "
          ]
        },
        {
          "output_type": "stream",
          "name": "stdout",
          "text": [
            "Step 5800: train loss 1.6303, val loss 1.8029\n"
          ]
        },
        {
          "output_type": "stream",
          "name": "stderr",
          "text": [
            " 20%|██        | 6005/30000 [03:45<1:12:18,  5.53it/s]"
          ]
        },
        {
          "output_type": "stream",
          "name": "stdout",
          "text": [
            "Step 6000: train loss 1.6230, val loss 1.8004\n"
          ]
        },
        {
          "output_type": "stream",
          "name": "stderr",
          "text": [
            " 21%|██        | 6207/30000 [03:52<49:32,  8.00it/s]  "
          ]
        },
        {
          "output_type": "stream",
          "name": "stdout",
          "text": [
            "Step 6200: train loss 1.6230, val loss 1.7861\n"
          ]
        },
        {
          "output_type": "stream",
          "name": "stderr",
          "text": [
            " 21%|██▏       | 6407/30000 [03:59<1:00:02,  6.55it/s]"
          ]
        },
        {
          "output_type": "stream",
          "name": "stdout",
          "text": [
            "Step 6400: train loss 1.6239, val loss 1.7973\n"
          ]
        },
        {
          "output_type": "stream",
          "name": "stderr",
          "text": [
            " 22%|██▏       | 6607/30000 [04:06<49:49,  7.82it/s]  "
          ]
        },
        {
          "output_type": "stream",
          "name": "stdout",
          "text": [
            "Step 6600: train loss 1.6165, val loss 1.7814\n"
          ]
        },
        {
          "output_type": "stream",
          "name": "stderr",
          "text": [
            " 23%|██▎       | 6809/30000 [04:14<52:39,  7.34it/s]  "
          ]
        },
        {
          "output_type": "stream",
          "name": "stdout",
          "text": [
            "Step 6800: train loss 1.6059, val loss 1.7646\n"
          ]
        },
        {
          "output_type": "stream",
          "name": "stderr",
          "text": [
            " 23%|██▎       | 7007/30000 [04:20<44:46,  8.56it/s]"
          ]
        },
        {
          "output_type": "stream",
          "name": "stdout",
          "text": [
            "Step 7000: train loss 1.6070, val loss 1.7781\n"
          ]
        },
        {
          "output_type": "stream",
          "name": "stderr",
          "text": [
            " 24%|██▍       | 7208/30000 [04:28<48:52,  7.77it/s]  "
          ]
        },
        {
          "output_type": "stream",
          "name": "stdout",
          "text": [
            "Step 7200: train loss 1.6047, val loss 1.7772\n"
          ]
        },
        {
          "output_type": "stream",
          "name": "stderr",
          "text": [
            " 25%|██▍       | 7405/30000 [04:35<1:18:22,  4.80it/s]"
          ]
        },
        {
          "output_type": "stream",
          "name": "stdout",
          "text": [
            "Step 7400: train loss 1.6005, val loss 1.7573\n"
          ]
        },
        {
          "output_type": "stream",
          "name": "stderr",
          "text": [
            " 25%|██▌       | 7606/30000 [04:42<48:10,  7.75it/s]  "
          ]
        },
        {
          "output_type": "stream",
          "name": "stdout",
          "text": [
            "Step 7600: train loss 1.5936, val loss 1.7459\n"
          ]
        },
        {
          "output_type": "stream",
          "name": "stderr",
          "text": [
            " 26%|██▌       | 7808/30000 [04:49<57:06,  6.48it/s]  "
          ]
        },
        {
          "output_type": "stream",
          "name": "stdout",
          "text": [
            "Step 7800: train loss 1.5934, val loss 1.7535\n"
          ]
        },
        {
          "output_type": "stream",
          "name": "stderr",
          "text": [
            " 27%|██▋       | 8008/30000 [04:56<47:03,  7.79it/s]  "
          ]
        },
        {
          "output_type": "stream",
          "name": "stdout",
          "text": [
            "Step 8000: train loss 1.5809, val loss 1.7516\n"
          ]
        },
        {
          "output_type": "stream",
          "name": "stderr",
          "text": [
            " 27%|██▋       | 8205/30000 [05:03<1:05:39,  5.53it/s]"
          ]
        },
        {
          "output_type": "stream",
          "name": "stdout",
          "text": [
            "Step 8200: train loss 1.5808, val loss 1.7672\n"
          ]
        },
        {
          "output_type": "stream",
          "name": "stderr",
          "text": [
            " 28%|██▊       | 8408/30000 [05:10<55:51,  6.44it/s]  "
          ]
        },
        {
          "output_type": "stream",
          "name": "stdout",
          "text": [
            "Step 8400: train loss 1.5859, val loss 1.7505\n"
          ]
        },
        {
          "output_type": "stream",
          "name": "stderr",
          "text": [
            " 29%|██▊       | 8606/30000 [05:17<46:21,  7.69it/s]  "
          ]
        },
        {
          "output_type": "stream",
          "name": "stdout",
          "text": [
            "Step 8600: train loss 1.5901, val loss 1.7441\n"
          ]
        },
        {
          "output_type": "stream",
          "name": "stderr",
          "text": [
            " 29%|██▉       | 8809/30000 [05:25<55:31,  6.36it/s]  "
          ]
        },
        {
          "output_type": "stream",
          "name": "stdout",
          "text": [
            "Step 8800: train loss 1.5699, val loss 1.7412\n"
          ]
        },
        {
          "output_type": "stream",
          "name": "stderr",
          "text": [
            " 30%|███       | 9005/30000 [05:31<1:02:29,  5.60it/s]"
          ]
        },
        {
          "output_type": "stream",
          "name": "stdout",
          "text": [
            "Step 9000: train loss 1.5676, val loss 1.7454\n"
          ]
        },
        {
          "output_type": "stream",
          "name": "stderr",
          "text": [
            " 31%|███       | 9208/30000 [05:39<44:43,  7.75it/s]  "
          ]
        },
        {
          "output_type": "stream",
          "name": "stdout",
          "text": [
            "Step 9200: train loss 1.5718, val loss 1.7385\n"
          ]
        },
        {
          "output_type": "stream",
          "name": "stderr",
          "text": [
            " 31%|███▏      | 9408/30000 [05:46<51:57,  6.60it/s]  "
          ]
        },
        {
          "output_type": "stream",
          "name": "stdout",
          "text": [
            "Step 9400: train loss 1.5656, val loss 1.7397\n"
          ]
        },
        {
          "output_type": "stream",
          "name": "stderr",
          "text": [
            " 32%|███▏      | 9608/30000 [05:53<44:08,  7.70it/s]  "
          ]
        },
        {
          "output_type": "stream",
          "name": "stdout",
          "text": [
            "Step 9600: train loss 1.5800, val loss 1.7524\n"
          ]
        },
        {
          "output_type": "stream",
          "name": "stderr",
          "text": [
            " 33%|███▎      | 9806/30000 [06:00<54:42,  6.15it/s]  "
          ]
        },
        {
          "output_type": "stream",
          "name": "stdout",
          "text": [
            "Step 9800: train loss 1.5612, val loss 1.7278\n"
          ]
        },
        {
          "output_type": "stream",
          "name": "stderr",
          "text": [
            " 33%|███▎      | 10006/30000 [06:07<42:15,  7.89it/s]"
          ]
        },
        {
          "output_type": "stream",
          "name": "stdout",
          "text": [
            "Step 10000: train loss 1.5616, val loss 1.7286\n"
          ]
        },
        {
          "output_type": "stream",
          "name": "stderr",
          "text": [
            " 34%|███▍      | 10208/30000 [06:14<40:48,  8.08it/s]"
          ]
        },
        {
          "output_type": "stream",
          "name": "stdout",
          "text": [
            "Step 10200: train loss 1.5618, val loss 1.7261\n"
          ]
        },
        {
          "output_type": "stream",
          "name": "stderr",
          "text": [
            " 35%|███▍      | 10406/30000 [06:21<51:33,  6.33it/s]  "
          ]
        },
        {
          "output_type": "stream",
          "name": "stdout",
          "text": [
            "Step 10400: train loss 1.5684, val loss 1.7399\n"
          ]
        },
        {
          "output_type": "stream",
          "name": "stderr",
          "text": [
            " 35%|███▌      | 10609/30000 [06:28<40:38,  7.95it/s]"
          ]
        },
        {
          "output_type": "stream",
          "name": "stdout",
          "text": [
            "Step 10600: train loss 1.5613, val loss 1.7461\n"
          ]
        },
        {
          "output_type": "stream",
          "name": "stderr",
          "text": [
            " 36%|███▌      | 10808/30000 [06:36<52:40,  6.07it/s]  "
          ]
        },
        {
          "output_type": "stream",
          "name": "stdout",
          "text": [
            "Step 10800: train loss 1.5513, val loss 1.7162\n"
          ]
        },
        {
          "output_type": "stream",
          "name": "stderr",
          "text": [
            " 37%|███▋      | 11006/30000 [06:42<40:54,  7.74it/s]"
          ]
        },
        {
          "output_type": "stream",
          "name": "stdout",
          "text": [
            "Step 11000: train loss 1.5462, val loss 1.7160\n"
          ]
        },
        {
          "output_type": "stream",
          "name": "stderr",
          "text": [
            " 37%|███▋      | 11206/30000 [06:50<40:01,  7.83it/s]"
          ]
        },
        {
          "output_type": "stream",
          "name": "stdout",
          "text": [
            "Step 11200: train loss 1.5450, val loss 1.7203\n"
          ]
        },
        {
          "output_type": "stream",
          "name": "stderr",
          "text": [
            " 38%|███▊      | 11405/30000 [06:57<52:50,  5.87it/s]"
          ]
        },
        {
          "output_type": "stream",
          "name": "stdout",
          "text": [
            "Step 11400: train loss 1.5400, val loss 1.7040\n"
          ]
        },
        {
          "output_type": "stream",
          "name": "stderr",
          "text": [
            " 39%|███▊      | 11606/30000 [07:04<47:30,  6.45it/s]"
          ]
        },
        {
          "output_type": "stream",
          "name": "stdout",
          "text": [
            "Step 11600: train loss 1.5483, val loss 1.7074\n"
          ]
        },
        {
          "output_type": "stream",
          "name": "stderr",
          "text": [
            " 39%|███▉      | 11807/30000 [07:11<47:05,  6.44it/s]  "
          ]
        },
        {
          "output_type": "stream",
          "name": "stdout",
          "text": [
            "Step 11800: train loss 1.5456, val loss 1.7191\n"
          ]
        },
        {
          "output_type": "stream",
          "name": "stderr",
          "text": [
            " 40%|████      | 12006/30000 [07:18<36:56,  8.12it/s]"
          ]
        },
        {
          "output_type": "stream",
          "name": "stdout",
          "text": [
            "Step 12000: train loss 1.5408, val loss 1.7281\n"
          ]
        },
        {
          "output_type": "stream",
          "name": "stderr",
          "text": [
            " 41%|████      | 12210/30000 [07:25<38:48,  7.64it/s]"
          ]
        },
        {
          "output_type": "stream",
          "name": "stdout",
          "text": [
            "Step 12200: train loss 1.5441, val loss 1.7160\n"
          ]
        },
        {
          "output_type": "stream",
          "name": "stderr",
          "text": [
            " 41%|████▏     | 12405/30000 [07:32<40:23,  7.26it/s]"
          ]
        },
        {
          "output_type": "stream",
          "name": "stdout",
          "text": [
            "Step 12400: train loss 1.5324, val loss 1.7210\n"
          ]
        },
        {
          "output_type": "stream",
          "name": "stderr",
          "text": [
            " 42%|████▏     | 12607/30000 [07:39<36:01,  8.05it/s]"
          ]
        },
        {
          "output_type": "stream",
          "name": "stdout",
          "text": [
            "Step 12600: train loss 1.5384, val loss 1.7108\n"
          ]
        },
        {
          "output_type": "stream",
          "name": "stderr",
          "text": [
            " 43%|████▎     | 12809/30000 [07:47<43:51,  6.53it/s]  "
          ]
        },
        {
          "output_type": "stream",
          "name": "stdout",
          "text": [
            "Step 12800: train loss 1.4997, val loss 1.6854\n"
          ]
        },
        {
          "output_type": "stream",
          "name": "stderr",
          "text": [
            " 43%|████▎     | 13010/30000 [07:53<34:10,  8.29it/s]"
          ]
        },
        {
          "output_type": "stream",
          "name": "stdout",
          "text": [
            "Step 13000: train loss 1.5022, val loss 1.6769\n"
          ]
        },
        {
          "output_type": "stream",
          "name": "stderr",
          "text": [
            " 44%|████▍     | 13207/30000 [08:01<37:31,  7.46it/s]"
          ]
        },
        {
          "output_type": "stream",
          "name": "stdout",
          "text": [
            "Step 13200: train loss 1.4926, val loss 1.6746\n"
          ]
        },
        {
          "output_type": "stream",
          "name": "stderr",
          "text": [
            " 45%|████▍     | 13407/30000 [08:07<35:51,  7.71it/s]"
          ]
        },
        {
          "output_type": "stream",
          "name": "stdout",
          "text": [
            "Step 13400: train loss 1.4917, val loss 1.6706\n"
          ]
        },
        {
          "output_type": "stream",
          "name": "stderr",
          "text": [
            " 45%|████▌     | 13608/30000 [08:15<35:59,  7.59it/s]"
          ]
        },
        {
          "output_type": "stream",
          "name": "stdout",
          "text": [
            "Step 13600: train loss 1.4884, val loss 1.6685\n"
          ]
        },
        {
          "output_type": "stream",
          "name": "stderr",
          "text": [
            " 46%|████▌     | 13809/30000 [08:22<41:16,  6.54it/s]"
          ]
        },
        {
          "output_type": "stream",
          "name": "stdout",
          "text": [
            "Step 13800: train loss 1.4982, val loss 1.6809\n"
          ]
        },
        {
          "output_type": "stream",
          "name": "stderr",
          "text": [
            " 47%|████▋     | 14010/30000 [08:29<31:54,  8.35it/s]"
          ]
        },
        {
          "output_type": "stream",
          "name": "stdout",
          "text": [
            "Step 14000: train loss 1.4938, val loss 1.6724\n"
          ]
        },
        {
          "output_type": "stream",
          "name": "stderr",
          "text": [
            " 47%|████▋     | 14207/30000 [08:36<41:04,  6.41it/s]  "
          ]
        },
        {
          "output_type": "stream",
          "name": "stdout",
          "text": [
            "Step 14200: train loss 1.4867, val loss 1.6933\n"
          ]
        },
        {
          "output_type": "stream",
          "name": "stderr",
          "text": [
            " 48%|████▊     | 14405/30000 [08:43<43:49,  5.93it/s]"
          ]
        },
        {
          "output_type": "stream",
          "name": "stdout",
          "text": [
            "Step 14400: train loss 1.4853, val loss 1.6624\n"
          ]
        },
        {
          "output_type": "stream",
          "name": "stderr",
          "text": [
            " 49%|████▊     | 14607/30000 [08:50<32:17,  7.94it/s]"
          ]
        },
        {
          "output_type": "stream",
          "name": "stdout",
          "text": [
            "Step 14600: train loss 1.4896, val loss 1.6723\n"
          ]
        },
        {
          "output_type": "stream",
          "name": "stderr",
          "text": [
            " 49%|████▉     | 14807/30000 [08:57<38:33,  6.57it/s]"
          ]
        },
        {
          "output_type": "stream",
          "name": "stdout",
          "text": [
            "Step 14800: train loss 1.4891, val loss 1.6727\n"
          ]
        },
        {
          "output_type": "stream",
          "name": "stderr",
          "text": [
            " 50%|█████     | 15009/30000 [09:04<30:12,  8.27it/s]"
          ]
        },
        {
          "output_type": "stream",
          "name": "stdout",
          "text": [
            "Step 15000: train loss 1.4803, val loss 1.6761\n"
          ]
        },
        {
          "output_type": "stream",
          "name": "stderr",
          "text": [
            " 51%|█████     | 15209/30000 [09:12<40:01,  6.16it/s]"
          ]
        },
        {
          "output_type": "stream",
          "name": "stdout",
          "text": [
            "Step 15200: train loss 1.4872, val loss 1.6587\n"
          ]
        },
        {
          "output_type": "stream",
          "name": "stderr",
          "text": [
            " 51%|█████▏    | 15406/30000 [09:18<30:59,  7.85it/s]"
          ]
        },
        {
          "output_type": "stream",
          "name": "stdout",
          "text": [
            "Step 15400: train loss 1.4812, val loss 1.6701\n"
          ]
        },
        {
          "output_type": "stream",
          "name": "stderr",
          "text": [
            " 52%|█████▏    | 15606/30000 [09:26<30:49,  7.78it/s]"
          ]
        },
        {
          "output_type": "stream",
          "name": "stdout",
          "text": [
            "Step 15600: train loss 1.4877, val loss 1.6789\n"
          ]
        },
        {
          "output_type": "stream",
          "name": "stderr",
          "text": [
            " 53%|█████▎    | 15803/30000 [09:33<45:21,  5.22it/s]"
          ]
        },
        {
          "output_type": "stream",
          "name": "stdout",
          "text": [
            "Step 15800: train loss 1.4836, val loss 1.6745\n"
          ]
        },
        {
          "output_type": "stream",
          "name": "stderr",
          "text": [
            " 53%|█████▎    | 16006/30000 [09:40<29:48,  7.82it/s]"
          ]
        },
        {
          "output_type": "stream",
          "name": "stdout",
          "text": [
            "Step 16000: train loss 1.4764, val loss 1.6670\n"
          ]
        },
        {
          "output_type": "stream",
          "name": "stderr",
          "text": [
            " 54%|█████▍    | 16206/30000 [09:47<37:13,  6.18it/s]"
          ]
        },
        {
          "output_type": "stream",
          "name": "stdout",
          "text": [
            "Step 16200: train loss 1.4786, val loss 1.6593\n"
          ]
        },
        {
          "output_type": "stream",
          "name": "stderr",
          "text": [
            " 55%|█████▍    | 16405/30000 [09:54<39:51,  5.68it/s]"
          ]
        },
        {
          "output_type": "stream",
          "name": "stdout",
          "text": [
            "Step 16400: train loss 1.4832, val loss 1.6563\n"
          ]
        },
        {
          "output_type": "stream",
          "name": "stderr",
          "text": [
            " 55%|█████▌    | 16605/30000 [10:01<38:10,  5.85it/s]"
          ]
        },
        {
          "output_type": "stream",
          "name": "stdout",
          "text": [
            "Step 16600: train loss 1.4699, val loss 1.6657\n"
          ]
        },
        {
          "output_type": "stream",
          "name": "stderr",
          "text": [
            " 56%|█████▌    | 16805/30000 [10:08<38:56,  5.65it/s]"
          ]
        },
        {
          "output_type": "stream",
          "name": "stdout",
          "text": [
            "Step 16800: train loss 1.4763, val loss 1.6669\n"
          ]
        },
        {
          "output_type": "stream",
          "name": "stderr",
          "text": [
            " 57%|█████▋    | 17007/30000 [10:15<28:39,  7.56it/s]"
          ]
        },
        {
          "output_type": "stream",
          "name": "stdout",
          "text": [
            "Step 17000: train loss 1.4686, val loss 1.6642\n"
          ]
        },
        {
          "output_type": "stream",
          "name": "stderr",
          "text": [
            " 57%|█████▋    | 17208/30000 [10:22<32:39,  6.53it/s]"
          ]
        },
        {
          "output_type": "stream",
          "name": "stdout",
          "text": [
            "Step 17200: train loss 1.4686, val loss 1.6662\n"
          ]
        },
        {
          "output_type": "stream",
          "name": "stderr",
          "text": [
            " 58%|█████▊    | 17407/30000 [10:29<26:50,  7.82it/s]"
          ]
        },
        {
          "output_type": "stream",
          "name": "stdout",
          "text": [
            "Step 17400: train loss 1.4762, val loss 1.6600\n"
          ]
        },
        {
          "output_type": "stream",
          "name": "stderr",
          "text": [
            " 59%|█████▊    | 17607/30000 [10:37<26:41,  7.74it/s]"
          ]
        },
        {
          "output_type": "stream",
          "name": "stdout",
          "text": [
            "Step 17600: train loss 1.4753, val loss 1.6585\n"
          ]
        },
        {
          "output_type": "stream",
          "name": "stderr",
          "text": [
            " 59%|█████▉    | 17804/30000 [10:43<39:07,  5.20it/s]"
          ]
        },
        {
          "output_type": "stream",
          "name": "stdout",
          "text": [
            "Step 17800: train loss 1.4545, val loss 1.6412\n"
          ]
        },
        {
          "output_type": "stream",
          "name": "stderr",
          "text": [
            " 60%|██████    | 18008/30000 [10:51<25:53,  7.72it/s]"
          ]
        },
        {
          "output_type": "stream",
          "name": "stdout",
          "text": [
            "Step 18000: train loss 1.4517, val loss 1.6486\n"
          ]
        },
        {
          "output_type": "stream",
          "name": "stderr",
          "text": [
            " 61%|██████    | 18208/30000 [10:58<30:01,  6.54it/s]"
          ]
        },
        {
          "output_type": "stream",
          "name": "stdout",
          "text": [
            "Step 18200: train loss 1.4451, val loss 1.6508\n"
          ]
        },
        {
          "output_type": "stream",
          "name": "stderr",
          "text": [
            " 61%|██████▏   | 18408/30000 [11:05<25:23,  7.61it/s]"
          ]
        },
        {
          "output_type": "stream",
          "name": "stdout",
          "text": [
            "Step 18400: train loss 1.4484, val loss 1.6363\n"
          ]
        },
        {
          "output_type": "stream",
          "name": "stderr",
          "text": [
            " 62%|██████▏   | 18605/30000 [11:13<33:14,  5.71it/s]"
          ]
        },
        {
          "output_type": "stream",
          "name": "stdout",
          "text": [
            "Step 18600: train loss 1.4441, val loss 1.6380\n"
          ]
        },
        {
          "output_type": "stream",
          "name": "stderr",
          "text": [
            " 63%|██████▎   | 18805/30000 [11:20<36:12,  5.15it/s]"
          ]
        },
        {
          "output_type": "stream",
          "name": "stdout",
          "text": [
            "Step 18800: train loss 1.4442, val loss 1.6496\n"
          ]
        },
        {
          "output_type": "stream",
          "name": "stderr",
          "text": [
            " 63%|██████▎   | 19007/30000 [11:27<23:46,  7.71it/s]"
          ]
        },
        {
          "output_type": "stream",
          "name": "stdout",
          "text": [
            "Step 19000: train loss 1.4494, val loss 1.6406\n"
          ]
        },
        {
          "output_type": "stream",
          "name": "stderr",
          "text": [
            " 64%|██████▍   | 19209/30000 [11:34<27:25,  6.56it/s]"
          ]
        },
        {
          "output_type": "stream",
          "name": "stdout",
          "text": [
            "Step 19200: train loss 1.4455, val loss 1.6367\n"
          ]
        },
        {
          "output_type": "stream",
          "name": "stderr",
          "text": [
            " 65%|██████▍   | 19407/30000 [11:41<22:53,  7.71it/s]"
          ]
        },
        {
          "output_type": "stream",
          "name": "stdout",
          "text": [
            "Step 19400: train loss 1.4465, val loss 1.6325\n"
          ]
        },
        {
          "output_type": "stream",
          "name": "stderr",
          "text": [
            " 65%|██████▌   | 19606/30000 [11:48<22:35,  7.67it/s]"
          ]
        },
        {
          "output_type": "stream",
          "name": "stdout",
          "text": [
            "Step 19600: train loss 1.4409, val loss 1.6344\n"
          ]
        },
        {
          "output_type": "stream",
          "name": "stderr",
          "text": [
            " 66%|██████▌   | 19804/30000 [11:55<30:17,  5.61it/s]"
          ]
        },
        {
          "output_type": "stream",
          "name": "stdout",
          "text": [
            "Step 19800: train loss 1.4397, val loss 1.6275\n"
          ]
        },
        {
          "output_type": "stream",
          "name": "stderr",
          "text": [
            " 67%|██████▋   | 20007/30000 [12:02<20:27,  8.14it/s]"
          ]
        },
        {
          "output_type": "stream",
          "name": "stdout",
          "text": [
            "Step 20000: train loss 1.4305, val loss 1.6340\n"
          ]
        },
        {
          "output_type": "stream",
          "name": "stderr",
          "text": [
            " 67%|██████▋   | 20208/30000 [12:10<23:40,  6.89it/s]"
          ]
        },
        {
          "output_type": "stream",
          "name": "stdout",
          "text": [
            "Step 20200: train loss 1.4328, val loss 1.6290\n"
          ]
        },
        {
          "output_type": "stream",
          "name": "stderr",
          "text": [
            " 68%|██████▊   | 20408/30000 [12:16<20:48,  7.68it/s]"
          ]
        },
        {
          "output_type": "stream",
          "name": "stdout",
          "text": [
            "Step 20400: train loss 1.4333, val loss 1.6335\n"
          ]
        },
        {
          "output_type": "stream",
          "name": "stderr",
          "text": [
            " 69%|██████▊   | 20609/30000 [12:24<20:34,  7.61it/s]"
          ]
        },
        {
          "output_type": "stream",
          "name": "stdout",
          "text": [
            "Step 20600: train loss 1.4372, val loss 1.6545\n"
          ]
        },
        {
          "output_type": "stream",
          "name": "stderr",
          "text": [
            " 69%|██████▉   | 20808/30000 [12:30<20:53,  7.33it/s]"
          ]
        },
        {
          "output_type": "stream",
          "name": "stdout",
          "text": [
            "Step 20800: train loss 1.4449, val loss 1.6370\n"
          ]
        },
        {
          "output_type": "stream",
          "name": "stderr",
          "text": [
            " 70%|███████   | 21005/30000 [12:38<24:36,  6.09it/s]"
          ]
        },
        {
          "output_type": "stream",
          "name": "stdout",
          "text": [
            "Step 21000: train loss 1.4440, val loss 1.6269\n"
          ]
        },
        {
          "output_type": "stream",
          "name": "stderr",
          "text": [
            " 71%|███████   | 21206/30000 [12:45<21:57,  6.67it/s]"
          ]
        },
        {
          "output_type": "stream",
          "name": "stdout",
          "text": [
            "Step 21200: train loss 1.4346, val loss 1.6320\n"
          ]
        },
        {
          "output_type": "stream",
          "name": "stderr",
          "text": [
            " 71%|███████▏  | 21406/30000 [12:52<17:58,  7.97it/s]"
          ]
        },
        {
          "output_type": "stream",
          "name": "stdout",
          "text": [
            "Step 21400: train loss 1.4406, val loss 1.6326\n"
          ]
        },
        {
          "output_type": "stream",
          "name": "stderr",
          "text": [
            " 72%|███████▏  | 21609/30000 [12:59<21:15,  6.58it/s]"
          ]
        },
        {
          "output_type": "stream",
          "name": "stdout",
          "text": [
            "Step 21600: train loss 1.4332, val loss 1.6438\n"
          ]
        },
        {
          "output_type": "stream",
          "name": "stderr",
          "text": [
            " 73%|███████▎  | 21806/30000 [13:06<17:38,  7.74it/s]"
          ]
        },
        {
          "output_type": "stream",
          "name": "stdout",
          "text": [
            "Step 21800: train loss 1.4274, val loss 1.6424\n"
          ]
        },
        {
          "output_type": "stream",
          "name": "stderr",
          "text": [
            " 73%|███████▎  | 22008/30000 [13:13<17:41,  7.53it/s]"
          ]
        },
        {
          "output_type": "stream",
          "name": "stdout",
          "text": [
            "Step 22000: train loss 1.4379, val loss 1.6288\n"
          ]
        },
        {
          "output_type": "stream",
          "name": "stderr",
          "text": [
            " 74%|███████▍  | 22207/30000 [13:21<19:43,  6.59it/s]"
          ]
        },
        {
          "output_type": "stream",
          "name": "stdout",
          "text": [
            "Step 22200: train loss 1.4356, val loss 1.6318\n"
          ]
        },
        {
          "output_type": "stream",
          "name": "stderr",
          "text": [
            " 75%|███████▍  | 22409/30000 [13:27<16:19,  7.75it/s]"
          ]
        },
        {
          "output_type": "stream",
          "name": "stdout",
          "text": [
            "Step 22400: train loss 1.4156, val loss 1.6304\n"
          ]
        },
        {
          "output_type": "stream",
          "name": "stderr",
          "text": [
            " 75%|███████▌  | 22608/30000 [13:35<19:37,  6.28it/s]"
          ]
        },
        {
          "output_type": "stream",
          "name": "stdout",
          "text": [
            "Step 22600: train loss 1.4262, val loss 1.6309\n"
          ]
        },
        {
          "output_type": "stream",
          "name": "stderr",
          "text": [
            " 76%|███████▌  | 22807/30000 [13:41<14:29,  8.27it/s]"
          ]
        },
        {
          "output_type": "stream",
          "name": "stdout",
          "text": [
            "Step 22800: train loss 1.4232, val loss 1.6231\n"
          ]
        },
        {
          "output_type": "stream",
          "name": "stderr",
          "text": [
            " 77%|███████▋  | 23006/30000 [13:49<14:29,  8.04it/s]"
          ]
        },
        {
          "output_type": "stream",
          "name": "stdout",
          "text": [
            "Step 23000: train loss 1.4228, val loss 1.6272\n"
          ]
        },
        {
          "output_type": "stream",
          "name": "stderr",
          "text": [
            " 77%|███████▋  | 23203/30000 [13:56<22:54,  4.95it/s]"
          ]
        },
        {
          "output_type": "stream",
          "name": "stdout",
          "text": [
            "Step 23200: train loss 1.4291, val loss 1.6181\n"
          ]
        },
        {
          "output_type": "stream",
          "name": "stderr",
          "text": [
            " 78%|███████▊  | 23405/30000 [14:03<19:28,  5.64it/s]"
          ]
        },
        {
          "output_type": "stream",
          "name": "stdout",
          "text": [
            "Step 23400: train loss 1.4261, val loss 1.6289\n"
          ]
        },
        {
          "output_type": "stream",
          "name": "stderr",
          "text": [
            " 79%|███████▊  | 23607/30000 [14:10<17:17,  6.16it/s]"
          ]
        },
        {
          "output_type": "stream",
          "name": "stdout",
          "text": [
            "Step 23600: train loss 1.4230, val loss 1.6247\n"
          ]
        },
        {
          "output_type": "stream",
          "name": "stderr",
          "text": [
            " 79%|███████▉  | 23809/30000 [14:17<13:15,  7.78it/s]"
          ]
        },
        {
          "output_type": "stream",
          "name": "stdout",
          "text": [
            "Step 23800: train loss 1.4184, val loss 1.6436\n"
          ]
        },
        {
          "output_type": "stream",
          "name": "stderr",
          "text": [
            " 80%|████████  | 24008/30000 [14:24<12:45,  7.83it/s]"
          ]
        },
        {
          "output_type": "stream",
          "name": "stdout",
          "text": [
            "Step 24000: train loss 1.4134, val loss 1.6146\n"
          ]
        },
        {
          "output_type": "stream",
          "name": "stderr",
          "text": [
            " 81%|████████  | 24207/30000 [14:31<14:22,  6.72it/s]"
          ]
        },
        {
          "output_type": "stream",
          "name": "stdout",
          "text": [
            "Step 24200: train loss 1.4216, val loss 1.6100\n"
          ]
        },
        {
          "output_type": "stream",
          "name": "stderr",
          "text": [
            " 81%|████████▏ | 24407/30000 [14:38<11:42,  7.96it/s]"
          ]
        },
        {
          "output_type": "stream",
          "name": "stdout",
          "text": [
            "Step 24400: train loss 1.4138, val loss 1.6201\n"
          ]
        },
        {
          "output_type": "stream",
          "name": "stderr",
          "text": [
            " 82%|████████▏ | 24608/30000 [14:46<13:42,  6.55it/s]"
          ]
        },
        {
          "output_type": "stream",
          "name": "stdout",
          "text": [
            "Step 24600: train loss 1.4199, val loss 1.6244\n"
          ]
        },
        {
          "output_type": "stream",
          "name": "stderr",
          "text": [
            " 83%|████████▎ | 24809/30000 [14:52<11:15,  7.68it/s]"
          ]
        },
        {
          "output_type": "stream",
          "name": "stdout",
          "text": [
            "Step 24800: train loss 1.4340, val loss 1.6230\n"
          ]
        },
        {
          "output_type": "stream",
          "name": "stderr",
          "text": [
            " 83%|████████▎ | 25008/30000 [15:00<10:48,  7.70it/s]"
          ]
        },
        {
          "output_type": "stream",
          "name": "stdout",
          "text": [
            "Step 25000: train loss 1.4167, val loss 1.6316\n"
          ]
        },
        {
          "output_type": "stream",
          "name": "stderr",
          "text": [
            " 84%|████████▍ | 25205/30000 [15:06<14:43,  5.43it/s]"
          ]
        },
        {
          "output_type": "stream",
          "name": "stdout",
          "text": [
            "Step 25200: train loss 1.4256, val loss 1.6167\n"
          ]
        },
        {
          "output_type": "stream",
          "name": "stderr",
          "text": [
            " 85%|████████▍ | 25407/30000 [15:14<10:01,  7.63it/s]"
          ]
        },
        {
          "output_type": "stream",
          "name": "stdout",
          "text": [
            "Step 25400: train loss 1.4067, val loss 1.6206\n"
          ]
        },
        {
          "output_type": "stream",
          "name": "stderr",
          "text": [
            " 85%|████████▌ | 25607/30000 [15:21<11:15,  6.50it/s]"
          ]
        },
        {
          "output_type": "stream",
          "name": "stdout",
          "text": [
            "Step 25600: train loss 1.4151, val loss 1.6262\n"
          ]
        },
        {
          "output_type": "stream",
          "name": "stderr",
          "text": [
            " 86%|████████▌ | 25805/30000 [15:28<12:04,  5.79it/s]"
          ]
        },
        {
          "output_type": "stream",
          "name": "stdout",
          "text": [
            "Step 25800: train loss 1.4069, val loss 1.6161\n"
          ]
        },
        {
          "output_type": "stream",
          "name": "stderr",
          "text": [
            " 87%|████████▋ | 26005/30000 [15:35<12:09,  5.48it/s]"
          ]
        },
        {
          "output_type": "stream",
          "name": "stdout",
          "text": [
            "Step 26000: train loss 1.4116, val loss 1.6048\n"
          ]
        },
        {
          "output_type": "stream",
          "name": "stderr",
          "text": [
            " 87%|████████▋ | 26203/30000 [15:42<10:55,  5.80it/s]"
          ]
        },
        {
          "output_type": "stream",
          "name": "stdout",
          "text": [
            "Step 26200: train loss 1.4131, val loss 1.6195\n"
          ]
        },
        {
          "output_type": "stream",
          "name": "stderr",
          "text": [
            " 88%|████████▊ | 26405/30000 [15:49<10:11,  5.87it/s]"
          ]
        },
        {
          "output_type": "stream",
          "name": "stdout",
          "text": [
            "Step 26400: train loss 1.4004, val loss 1.6226\n"
          ]
        },
        {
          "output_type": "stream",
          "name": "stderr",
          "text": [
            " 89%|████████▊ | 26604/30000 [15:57<11:32,  4.91it/s]"
          ]
        },
        {
          "output_type": "stream",
          "name": "stdout",
          "text": [
            "Step 26600: train loss 1.4126, val loss 1.6233\n"
          ]
        },
        {
          "output_type": "stream",
          "name": "stderr",
          "text": [
            " 89%|████████▉ | 26808/30000 [16:03<06:26,  8.27it/s]"
          ]
        },
        {
          "output_type": "stream",
          "name": "stdout",
          "text": [
            "Step 26800: train loss 1.4050, val loss 1.6085\n"
          ]
        },
        {
          "output_type": "stream",
          "name": "stderr",
          "text": [
            " 90%|█████████ | 27008/30000 [16:11<06:47,  7.35it/s]"
          ]
        },
        {
          "output_type": "stream",
          "name": "stdout",
          "text": [
            "Step 27000: train loss 1.4129, val loss 1.6189\n"
          ]
        },
        {
          "output_type": "stream",
          "name": "stderr",
          "text": [
            " 91%|█████████ | 27209/30000 [16:18<05:36,  8.28it/s]"
          ]
        },
        {
          "output_type": "stream",
          "name": "stdout",
          "text": [
            "Step 27200: train loss 1.4042, val loss 1.6159\n"
          ]
        },
        {
          "output_type": "stream",
          "name": "stderr",
          "text": [
            " 91%|█████████▏| 27407/30000 [16:25<05:33,  7.76it/s]"
          ]
        },
        {
          "output_type": "stream",
          "name": "stdout",
          "text": [
            "Step 27400: train loss 1.4092, val loss 1.6122\n"
          ]
        },
        {
          "output_type": "stream",
          "name": "stderr",
          "text": [
            " 92%|█████████▏| 27609/30000 [16:32<06:07,  6.50it/s]"
          ]
        },
        {
          "output_type": "stream",
          "name": "stdout",
          "text": [
            "Step 27600: train loss 1.4095, val loss 1.6093\n"
          ]
        },
        {
          "output_type": "stream",
          "name": "stderr",
          "text": [
            " 93%|█████████▎| 27807/30000 [16:39<04:40,  7.82it/s]"
          ]
        },
        {
          "output_type": "stream",
          "name": "stdout",
          "text": [
            "Step 27800: train loss 1.3992, val loss 1.6059\n"
          ]
        },
        {
          "output_type": "stream",
          "name": "stderr",
          "text": [
            " 93%|█████████▎| 28007/30000 [16:46<05:17,  6.27it/s]"
          ]
        },
        {
          "output_type": "stream",
          "name": "stdout",
          "text": [
            "Step 28000: train loss 1.4060, val loss 1.6157\n"
          ]
        },
        {
          "output_type": "stream",
          "name": "stderr",
          "text": [
            " 94%|█████████▍| 28206/30000 [16:53<03:49,  7.83it/s]"
          ]
        },
        {
          "output_type": "stream",
          "name": "stdout",
          "text": [
            "Step 28200: train loss 1.4205, val loss 1.6122\n"
          ]
        },
        {
          "output_type": "stream",
          "name": "stderr",
          "text": [
            " 95%|█████████▍| 28405/30000 [17:00<04:30,  5.89it/s]"
          ]
        },
        {
          "output_type": "stream",
          "name": "stdout",
          "text": [
            "Step 28400: train loss 1.4104, val loss 1.6249\n"
          ]
        },
        {
          "output_type": "stream",
          "name": "stderr",
          "text": [
            " 95%|█████████▌| 28606/30000 [17:08<03:20,  6.95it/s]"
          ]
        },
        {
          "output_type": "stream",
          "name": "stdout",
          "text": [
            "Step 28600: train loss 1.4034, val loss 1.6150\n"
          ]
        },
        {
          "output_type": "stream",
          "name": "stderr",
          "text": [
            " 96%|█████████▌| 28805/30000 [17:14<03:33,  5.59it/s]"
          ]
        },
        {
          "output_type": "stream",
          "name": "stdout",
          "text": [
            "Step 28800: train loss 1.4055, val loss 1.6054\n"
          ]
        },
        {
          "output_type": "stream",
          "name": "stderr",
          "text": [
            " 97%|█████████▋| 29006/30000 [17:22<02:40,  6.18it/s]"
          ]
        },
        {
          "output_type": "stream",
          "name": "stdout",
          "text": [
            "Step 29000: train loss 1.4154, val loss 1.6170\n"
          ]
        },
        {
          "output_type": "stream",
          "name": "stderr",
          "text": [
            " 97%|█████████▋| 29208/30000 [17:28<01:38,  8.03it/s]"
          ]
        },
        {
          "output_type": "stream",
          "name": "stdout",
          "text": [
            "Step 29200: train loss 1.4091, val loss 1.6118\n"
          ]
        },
        {
          "output_type": "stream",
          "name": "stderr",
          "text": [
            " 98%|█████████▊| 29409/30000 [17:36<01:17,  7.66it/s]"
          ]
        },
        {
          "output_type": "stream",
          "name": "stdout",
          "text": [
            "Step 29400: train loss 1.4023, val loss 1.6037\n"
          ]
        },
        {
          "output_type": "stream",
          "name": "stderr",
          "text": [
            " 99%|█████████▊| 29606/30000 [17:43<00:59,  6.62it/s]"
          ]
        },
        {
          "output_type": "stream",
          "name": "stdout",
          "text": [
            "Step 29600: train loss 1.4029, val loss 1.6123\n"
          ]
        },
        {
          "output_type": "stream",
          "name": "stderr",
          "text": [
            " 99%|█████████▉| 29806/30000 [17:50<00:24,  7.89it/s]"
          ]
        },
        {
          "output_type": "stream",
          "name": "stdout",
          "text": [
            "Step 29800: train loss 1.4037, val loss 1.6307\n"
          ]
        },
        {
          "output_type": "stream",
          "name": "stderr",
          "text": [
            "100%|██████████| 30000/30000 [17:57<00:00, 27.85it/s]"
          ]
        },
        {
          "output_type": "stream",
          "name": "stdout",
          "text": [
            "Step 29999: train loss 1.4001, val loss 1.5983\n"
          ]
        },
        {
          "output_type": "stream",
          "name": "stderr",
          "text": [
            "\n"
          ]
        }
      ]
    },
    {
      "cell_type": "code",
      "source": [
        "# DO NOT MODIFY ANY OF THIS CODE\n",
        "\n",
        "# Generate from the model\n",
        "with torch.no_grad():\n",
        "    context = torch.tensor(encode_text(\"JULIET: \"), dtype=torch.long).unsqueeze(0).to(device)\n",
        "    generated_text = decode_text(model.generate_text(context, max_tokens=200)[0].tolist())\n",
        "    print(generated_text)"
      ],
      "metadata": {
        "id": "j-a_vX0tEQbb",
        "colab": {
          "base_uri": "https://localhost:8080/"
        },
        "outputId": "e01133f1-ff84-400b-d390-812c9cca9a1c"
      },
      "execution_count": null,
      "outputs": [
        {
          "output_type": "stream",
          "name": "stdout",
          "text": [
            "JULIET: where an excuse.\n",
            "\n",
            "First Gewons: when he is too honour not\n",
            "take all the were should\n",
            "As be rest mine is fled: by now, infected great on the news\n",
            "And friends abstand.I hast a cannot confession of your pl\n"
          ]
        }
      ]
    },
    {
      "cell_type": "code",
      "source": [],
      "metadata": {
        "id": "Ietrr8woMR1Q"
      },
      "execution_count": null,
      "outputs": []
    }
  ]
}